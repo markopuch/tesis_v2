{
 "cells": [
  {
   "cell_type": "code",
   "execution_count": 1,
   "metadata": {},
   "outputs": [],
   "source": [
    "import cv2"
   ]
  },
  {
   "cell_type": "code",
   "execution_count": 2,
   "metadata": {},
   "outputs": [],
   "source": [
    "def extract_frames(video_path, output_folder, interval=0.5):\n",
    "    \n",
    "    # Abrir el archivo de video\n",
    "    cap = cv2.VideoCapture(video_path)\n",
    "    \n",
    "    if not cap.isOpened():\n",
    "        print(\"Error al abrir el archivo de video\")\n",
    "        return\n",
    "    \n",
    "    # Obtener la tasa de fotogramas del video\n",
    "    fps = cap.get(cv2.CAP_PROP_FPS)\n",
    "    frame_interval = int(fps * interval)  # Número de frames para cada intervalo\n",
    "    \n",
    "    frame_count = 0\n",
    "    saved_frame_count = 0\n",
    "    \n",
    "    while True:\n",
    "        ret, frame = cap.read()\n",
    "        \n",
    "        if not ret:\n",
    "            break\n",
    "        \n",
    "        # Guardar el frame cada 'frame_interval' frames\n",
    "        if frame_count % frame_interval == 0:\n",
    "            frame_name = f\"{output_folder}/frame_{saved_frame_count:04d}.jpg\"\n",
    "            cv2.imwrite(frame_name, frame)\n",
    "            print(f\"Guardado {frame_name}\")\n",
    "            saved_frame_count += 1\n",
    "        \n",
    "        frame_count += 1\n",
    "    \n",
    "    cap.release()\n",
    "    print(\"Extracción de frames completada.\")\n",
    "\n"
   ]
  },
  {
   "cell_type": "code",
   "execution_count": 6,
   "metadata": {},
   "outputs": [
    {
     "name": "stdout",
     "output_type": "stream",
     "text": [
      "Guardado imagenes/frame_0000.jpg\n",
      "Guardado imagenes/frame_0001.jpg\n",
      "Guardado imagenes/frame_0002.jpg\n",
      "Guardado imagenes/frame_0003.jpg\n",
      "Guardado imagenes/frame_0004.jpg\n",
      "Guardado imagenes/frame_0005.jpg\n",
      "Guardado imagenes/frame_0006.jpg\n",
      "Guardado imagenes/frame_0007.jpg\n",
      "Guardado imagenes/frame_0008.jpg\n",
      "Guardado imagenes/frame_0009.jpg\n",
      "Guardado imagenes/frame_0010.jpg\n",
      "Guardado imagenes/frame_0011.jpg\n",
      "Guardado imagenes/frame_0012.jpg\n",
      "Guardado imagenes/frame_0013.jpg\n",
      "Guardado imagenes/frame_0014.jpg\n",
      "Guardado imagenes/frame_0015.jpg\n",
      "Guardado imagenes/frame_0016.jpg\n",
      "Guardado imagenes/frame_0017.jpg\n",
      "Guardado imagenes/frame_0018.jpg\n",
      "Guardado imagenes/frame_0019.jpg\n",
      "Guardado imagenes/frame_0020.jpg\n",
      "Extracción de frames completada.\n"
     ]
    }
   ],
   "source": [
    "# Ejemplo de uso\n",
    "video_path = 'video_20240603_124132.avi'\n",
    "output_folder = 'imagenes'\n",
    "interval=2.5\n",
    "# Abrir el archivo de video\n",
    "cap = cv2.VideoCapture(video_path)\n",
    "\n",
    "if not cap.isOpened():\n",
    "    print(\"Error al abrir el archivo de video\")\n",
    "else:\n",
    "    # Obtener la tasa de fotogramas del video\n",
    "    fps = cap.get(cv2.CAP_PROP_FPS)\n",
    "    frame_interval = int(fps * interval)  # Número de frames para cada intervalo\n",
    "\n",
    "    frame_count = 0\n",
    "    saved_frame_count = 0\n",
    "\n",
    "    while True:\n",
    "        ret, frame = cap.read()\n",
    "        \n",
    "        if not ret:\n",
    "            break\n",
    "        \n",
    "        # Guardar el frame cada 'frame_interval' frames\n",
    "        if frame_count % frame_interval == 0:\n",
    "            frame_name = f\"{output_folder}/frame_{saved_frame_count:04d}.jpg\"\n",
    "            cv2.imwrite(frame_name, frame)\n",
    "            print(f\"Guardado {frame_name}\")\n",
    "            saved_frame_count += 1\n",
    "        \n",
    "        frame_count += 1\n",
    "\n",
    "    cap.release()\n",
    "    print(\"Extracción de frames completada.\")"
   ]
  }
 ],
 "metadata": {
  "kernelspec": {
   "display_name": "Python 3",
   "language": "python",
   "name": "python3"
  },
  "language_info": {
   "codemirror_mode": {
    "name": "ipython",
    "version": 3
   },
   "file_extension": ".py",
   "mimetype": "text/x-python",
   "name": "python",
   "nbconvert_exporter": "python",
   "pygments_lexer": "ipython3",
   "version": "3.12.2"
  }
 },
 "nbformat": 4,
 "nbformat_minor": 2
}
